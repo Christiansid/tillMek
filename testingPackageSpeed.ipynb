{
 "metadata": {
  "language_info": {
   "codemirror_mode": {
    "name": "ipython",
    "version": 3
   },
   "file_extension": ".py",
   "mimetype": "text/x-python",
   "name": "python",
   "nbconvert_exporter": "python",
   "pygments_lexer": "ipython3",
   "version": "3.7.0-final"
  },
  "orig_nbformat": 2,
  "kernelspec": {
   "name": "python3",
   "display_name": "Python 3.7.0 64-bit (conda)",
   "metadata": {
    "interpreter": {
     "hash": "e166d71b572dd20632331668acf7c09ef878de0ef7240d46e8744a6a4ac67ac1"
    }
   }
  }
 },
 "nbformat": 4,
 "nbformat_minor": 2,
 "cells": [
  {
   "source": [
    "# Testing different package speeds\n",
    "## Testing CSV, xlsx writer, pandas, numpy.array"
   ],
   "cell_type": "markdown",
   "metadata": {}
  },
  {
   "source": [
    "### Imports"
   ],
   "cell_type": "markdown",
   "metadata": {}
  },
  {
   "cell_type": "code",
   "execution_count": 4,
   "metadata": {},
   "outputs": [],
   "source": [
    "import pandas as pd\n",
    "import numpy as np\n",
    "import xlsxwriter as excel\n",
    "import csv\n",
    "import datetime as dt"
   ]
  },
  {
   "source": [
    "### Testing writing"
   ],
   "cell_type": "markdown",
   "metadata": {}
  },
  {
   "cell_type": "code",
   "execution_count": 9,
   "metadata": {},
   "outputs": [],
   "source": [
    "val1 = 1\n",
    "val2 = 0\n",
    "val3 = 1 \n",
    "resultDict = {}"
   ]
  },
  {
   "cell_type": "code",
   "execution_count": 10,
   "metadata": {},
   "outputs": [],
   "source": [
    "with open('csvTest.csv' ,'w') as file:\n",
    "    start = dt.datetime.now()\n",
    "    writer = csv.writer(file)\n",
    "    writer.writerow([1, '12:47', val1, val2, val3])\n",
    "    resultDict['CSV'] = (dt.datetime.now()-start).total_seconds()\n"
   ]
  },
  {
   "source": [
    "### Xlsx writer setup followed by test"
   ],
   "cell_type": "markdown",
   "metadata": {}
  },
  {
   "cell_type": "code",
   "execution_count": 14,
   "metadata": {},
   "outputs": [],
   "source": [
    " # Setup\n",
    " workbook = excel.Workbook('xlsxTest.xlsx')\n",
    " worksheet = workbook.add_worksheet()"
   ]
  },
  {
   "cell_type": "code",
   "execution_count": 15,
   "metadata": {},
   "outputs": [],
   "source": [
    "start = dt.datetime.now()\n",
    "check =worksheet.write(1, 1, '12:47' )\n",
    "if(check != 0):\n",
    "    raise xlsxwriter.exceptions.XlsxWriterException\n",
    "\n",
    "check =worksheet.write(1,2, val1)\n",
    "if(check != 0):\n",
    "    raise xlsxwriter.exceptions.XlsxWriterException\n",
    "\n",
    "check = worksheet.write(1, 3, val2)\n",
    "if(check != 0):\n",
    "    raise xlsxwriter.exceptions.XlsxWriterException\n",
    "check = worksheet.write(1, 4, val3)\n",
    "if(check != 0):\n",
    "    raise xlsxwriter.exceptions.XlsxWriterException\n",
    "resultDict['xlsx'] = (dt.datetime.now() - start).total_seconds()"
   ]
  },
  {
   "source": [
    "### Numpy array test"
   ],
   "cell_type": "markdown",
   "metadata": {}
  },
  {
   "cell_type": "code",
   "execution_count": null,
   "metadata": {},
   "outputs": [],
   "source": []
  }
 ]
}