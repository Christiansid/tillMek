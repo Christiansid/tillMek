{
 "metadata": {
  "language_info": {
   "codemirror_mode": {
    "name": "ipython",
    "version": 3
   },
   "file_extension": ".py",
   "mimetype": "text/x-python",
   "name": "python",
   "nbconvert_exporter": "python",
   "pygments_lexer": "ipython3",
   "version": "3.7.0-final"
  },
  "orig_nbformat": 2,
  "kernelspec": {
   "name": "python3",
   "display_name": "Python 3.7.0 64-bit (conda)",
   "metadata": {
    "interpreter": {
     "hash": "e166d71b572dd20632331668acf7c09ef878de0ef7240d46e8744a6a4ac67ac1"
    }
   }
  }
 },
 "nbformat": 4,
 "nbformat_minor": 2,
 "cells": [
  {
   "source": [
    "# Testing different package speeds\n",
    "## Testing CSV, xlsx writer, pandas, numpy.array"
   ],
   "cell_type": "markdown",
   "metadata": {}
  },
  {
   "source": [
    "### Imports"
   ],
   "cell_type": "markdown",
   "metadata": {}
  },
  {
   "cell_type": "code",
   "execution_count": 4,
   "metadata": {},
   "outputs": [],
   "source": [
    "import pandas as pd\n",
    "import numpy as np\n",
    "import xlsxwriter as excel\n",
    "import csv\n",
    "import datetime as dt"
   ]
  },
  {
   "source": [
    "### Testing writing"
   ],
   "cell_type": "markdown",
   "metadata": {}
  },
  {
   "cell_type": "code",
   "execution_count": 9,
   "metadata": {},
   "outputs": [],
   "source": [
    "val1 = 1\n",
    "val2 = 0\n",
    "val3 = 1 \n",
    "resultDict = {}"
   ]
  },
  {
   "cell_type": "code",
   "execution_count": 38,
   "metadata": {},
   "outputs": [
    {
     "output_type": "stream",
     "name": "stdout",
     "text": [
      "0.0 /seconds\n"
     ]
    }
   ],
   "source": [
    "with open('csvTest.csv' ,'w') as file:\n",
    "    start = dt.datetime.now()\n",
    "    writer = csv.writer(file)\n",
    "    for i in range(0,100):\n",
    "        writer.writerow([i, '12:47', val1, val2, val3])\n",
    "    time = (dt.datetime.now() - start).total_seconds()\n",
    "    resultDict['CSV'] = time\n",
    "print(time, '/seconds')"
   ]
  },
  {
   "source": [
    "### Xlsx writer setup followed by test"
   ],
   "cell_type": "markdown",
   "metadata": {}
  },
  {
   "cell_type": "code",
   "execution_count": 19,
   "metadata": {},
   "outputs": [],
   "source": [
    " # Setup\n",
    " workbook = excel.Workbook('xlsxTest.xlsx')\n",
    " worksheet = workbook.add_worksheet()"
   ]
  },
  {
   "cell_type": "code",
   "execution_count": 37,
   "metadata": {},
   "outputs": [
    {
     "output_type": "stream",
     "name": "stdout",
     "text": [
      "0.001962 /seconds\n"
     ]
    }
   ],
   "source": [
    "start = dt.datetime.now()\n",
    "for i in range(0, 100):\n",
    "    check =worksheet.write(i, 1, '12:47' )\n",
    "    if(check != 0):\n",
    "        raise xlsxwriter.exceptions.XlsxWriterException\n",
    "\n",
    "    check =worksheet.write(i,2, val1)\n",
    "    if(check != 0):\n",
    "        raise xlsxwriter.exceptions.XlsxWriterException\n",
    "\n",
    "    check = worksheet.write(i, 3, val2)\n",
    "    if(check != 0):\n",
    "        raise xlsxwriter.exceptions.XlsxWriterException\n",
    "    check = worksheet.write(i, 4, val3)\n",
    "    if(check != 0):\n",
    "        raise xlsxwriter.exceptions.XlsxWriterException\n",
    "time = (dt.datetime.now() - start).total_seconds()\n",
    "resultDict['xlsx'] = time\n",
    "print(time, '/seconds')"
   ]
  },
  {
   "source": [
    "### Pandas test"
   ],
   "cell_type": "markdown",
   "metadata": {}
  },
  {
   "cell_type": "code",
   "execution_count": 39,
   "metadata": {},
   "outputs": [
    {
     "output_type": "stream",
     "name": "stdout",
     "text": [
      "0.163589 /seconds\n"
     ]
    },
    {
     "output_type": "execute_result",
     "data": {
      "text/plain": [
       "     Time Val1  Val2 Val3\n",
       "0   12:47    1     0    1\n",
       "1   12:47    1     0    1\n",
       "2   12:47    1     0    1\n",
       "3   12:47    1     0    1\n",
       "4   12:47    1     0    1\n",
       "5   12:47    1     0    1\n",
       "6   12:47    1     0    1\n",
       "7   12:47    1     0    1\n",
       "8   12:47    1     0    1\n",
       "9   12:47    1     0    1\n",
       "10  12:47    1     0    1\n",
       "11  12:47    1     0    1\n",
       "12  12:47    1     0    1\n",
       "13  12:47    1     0    1\n",
       "14  12:47    1     0    1\n",
       "15  12:47    1     0    1\n",
       "16  12:47    1     0    1\n",
       "17  12:47    1     0    1\n",
       "18  12:47    1     0    1\n",
       "19  12:47    1     0    1\n",
       "20  12:47    1     0    1\n",
       "21  12:47    1     0    1\n",
       "22  12:47    1     0    1\n",
       "23  12:47    1     0    1\n",
       "24  12:47    1     0    1\n",
       "25  12:47    1     0    1\n",
       "26  12:47    1     0    1\n",
       "27  12:47    1     0    1\n",
       "28  12:47    1     0    1\n",
       "29  12:47    1     0    1\n",
       "..    ...  ...   ...  ...\n",
       "70  12:47    1     0    1\n",
       "71  12:47    1     0    1\n",
       "72  12:47    1     0    1\n",
       "73  12:47    1     0    1\n",
       "74  12:47    1     0    1\n",
       "75  12:47    1     0    1\n",
       "76  12:47    1     0    1\n",
       "77  12:47    1     0    1\n",
       "78  12:47    1     0    1\n",
       "79  12:47    1     0    1\n",
       "80  12:47    1     0    1\n",
       "81  12:47    1     0    1\n",
       "82  12:47    1     0    1\n",
       "83  12:47    1     0    1\n",
       "84  12:47    1     0    1\n",
       "85  12:47    1     0    1\n",
       "86  12:47    1     0    1\n",
       "87  12:47    1     0    1\n",
       "88  12:47    1     0    1\n",
       "89  12:47    1     0    1\n",
       "90  12:47    1     0    1\n",
       "91  12:47    1     0    1\n",
       "92  12:47    1     0    1\n",
       "93  12:47    1     0    1\n",
       "94  12:47    1     0    1\n",
       "95  12:47    1     0    1\n",
       "96  12:47    1     0    1\n",
       "97  12:47    1     0    1\n",
       "98  12:47    1     0    1\n",
       "99  12:47    1     0    1\n",
       "\n",
       "[100 rows x 4 columns]"
      ],
      "text/html": "<div>\n<style scoped>\n    .dataframe tbody tr th:only-of-type {\n        vertical-align: middle;\n    }\n\n    .dataframe tbody tr th {\n        vertical-align: top;\n    }\n\n    .dataframe thead th {\n        text-align: right;\n    }\n</style>\n<table border=\"1\" class=\"dataframe\">\n  <thead>\n    <tr style=\"text-align: right;\">\n      <th></th>\n      <th>Time</th>\n      <th>Val1</th>\n      <th>Val2</th>\n      <th>Val3</th>\n    </tr>\n  </thead>\n  <tbody>\n    <tr>\n      <th>0</th>\n      <td>12:47</td>\n      <td>1</td>\n      <td>0</td>\n      <td>1</td>\n    </tr>\n    <tr>\n      <th>1</th>\n      <td>12:47</td>\n      <td>1</td>\n      <td>0</td>\n      <td>1</td>\n    </tr>\n    <tr>\n      <th>2</th>\n      <td>12:47</td>\n      <td>1</td>\n      <td>0</td>\n      <td>1</td>\n    </tr>\n    <tr>\n      <th>3</th>\n      <td>12:47</td>\n      <td>1</td>\n      <td>0</td>\n      <td>1</td>\n    </tr>\n    <tr>\n      <th>4</th>\n      <td>12:47</td>\n      <td>1</td>\n      <td>0</td>\n      <td>1</td>\n    </tr>\n    <tr>\n      <th>5</th>\n      <td>12:47</td>\n      <td>1</td>\n      <td>0</td>\n      <td>1</td>\n    </tr>\n    <tr>\n      <th>6</th>\n      <td>12:47</td>\n      <td>1</td>\n      <td>0</td>\n      <td>1</td>\n    </tr>\n    <tr>\n      <th>7</th>\n      <td>12:47</td>\n      <td>1</td>\n      <td>0</td>\n      <td>1</td>\n    </tr>\n    <tr>\n      <th>8</th>\n      <td>12:47</td>\n      <td>1</td>\n      <td>0</td>\n      <td>1</td>\n    </tr>\n    <tr>\n      <th>9</th>\n      <td>12:47</td>\n      <td>1</td>\n      <td>0</td>\n      <td>1</td>\n    </tr>\n    <tr>\n      <th>10</th>\n      <td>12:47</td>\n      <td>1</td>\n      <td>0</td>\n      <td>1</td>\n    </tr>\n    <tr>\n      <th>11</th>\n      <td>12:47</td>\n      <td>1</td>\n      <td>0</td>\n      <td>1</td>\n    </tr>\n    <tr>\n      <th>12</th>\n      <td>12:47</td>\n      <td>1</td>\n      <td>0</td>\n      <td>1</td>\n    </tr>\n    <tr>\n      <th>13</th>\n      <td>12:47</td>\n      <td>1</td>\n      <td>0</td>\n      <td>1</td>\n    </tr>\n    <tr>\n      <th>14</th>\n      <td>12:47</td>\n      <td>1</td>\n      <td>0</td>\n      <td>1</td>\n    </tr>\n    <tr>\n      <th>15</th>\n      <td>12:47</td>\n      <td>1</td>\n      <td>0</td>\n      <td>1</td>\n    </tr>\n    <tr>\n      <th>16</th>\n      <td>12:47</td>\n      <td>1</td>\n      <td>0</td>\n      <td>1</td>\n    </tr>\n    <tr>\n      <th>17</th>\n      <td>12:47</td>\n      <td>1</td>\n      <td>0</td>\n      <td>1</td>\n    </tr>\n    <tr>\n      <th>18</th>\n      <td>12:47</td>\n      <td>1</td>\n      <td>0</td>\n      <td>1</td>\n    </tr>\n    <tr>\n      <th>19</th>\n      <td>12:47</td>\n      <td>1</td>\n      <td>0</td>\n      <td>1</td>\n    </tr>\n    <tr>\n      <th>20</th>\n      <td>12:47</td>\n      <td>1</td>\n      <td>0</td>\n      <td>1</td>\n    </tr>\n    <tr>\n      <th>21</th>\n      <td>12:47</td>\n      <td>1</td>\n      <td>0</td>\n      <td>1</td>\n    </tr>\n    <tr>\n      <th>22</th>\n      <td>12:47</td>\n      <td>1</td>\n      <td>0</td>\n      <td>1</td>\n    </tr>\n    <tr>\n      <th>23</th>\n      <td>12:47</td>\n      <td>1</td>\n      <td>0</td>\n      <td>1</td>\n    </tr>\n    <tr>\n      <th>24</th>\n      <td>12:47</td>\n      <td>1</td>\n      <td>0</td>\n      <td>1</td>\n    </tr>\n    <tr>\n      <th>25</th>\n      <td>12:47</td>\n      <td>1</td>\n      <td>0</td>\n      <td>1</td>\n    </tr>\n    <tr>\n      <th>26</th>\n      <td>12:47</td>\n      <td>1</td>\n      <td>0</td>\n      <td>1</td>\n    </tr>\n    <tr>\n      <th>27</th>\n      <td>12:47</td>\n      <td>1</td>\n      <td>0</td>\n      <td>1</td>\n    </tr>\n    <tr>\n      <th>28</th>\n      <td>12:47</td>\n      <td>1</td>\n      <td>0</td>\n      <td>1</td>\n    </tr>\n    <tr>\n      <th>29</th>\n      <td>12:47</td>\n      <td>1</td>\n      <td>0</td>\n      <td>1</td>\n    </tr>\n    <tr>\n      <th>...</th>\n      <td>...</td>\n      <td>...</td>\n      <td>...</td>\n      <td>...</td>\n    </tr>\n    <tr>\n      <th>70</th>\n      <td>12:47</td>\n      <td>1</td>\n      <td>0</td>\n      <td>1</td>\n    </tr>\n    <tr>\n      <th>71</th>\n      <td>12:47</td>\n      <td>1</td>\n      <td>0</td>\n      <td>1</td>\n    </tr>\n    <tr>\n      <th>72</th>\n      <td>12:47</td>\n      <td>1</td>\n      <td>0</td>\n      <td>1</td>\n    </tr>\n    <tr>\n      <th>73</th>\n      <td>12:47</td>\n      <td>1</td>\n      <td>0</td>\n      <td>1</td>\n    </tr>\n    <tr>\n      <th>74</th>\n      <td>12:47</td>\n      <td>1</td>\n      <td>0</td>\n      <td>1</td>\n    </tr>\n    <tr>\n      <th>75</th>\n      <td>12:47</td>\n      <td>1</td>\n      <td>0</td>\n      <td>1</td>\n    </tr>\n    <tr>\n      <th>76</th>\n      <td>12:47</td>\n      <td>1</td>\n      <td>0</td>\n      <td>1</td>\n    </tr>\n    <tr>\n      <th>77</th>\n      <td>12:47</td>\n      <td>1</td>\n      <td>0</td>\n      <td>1</td>\n    </tr>\n    <tr>\n      <th>78</th>\n      <td>12:47</td>\n      <td>1</td>\n      <td>0</td>\n      <td>1</td>\n    </tr>\n    <tr>\n      <th>79</th>\n      <td>12:47</td>\n      <td>1</td>\n      <td>0</td>\n      <td>1</td>\n    </tr>\n    <tr>\n      <th>80</th>\n      <td>12:47</td>\n      <td>1</td>\n      <td>0</td>\n      <td>1</td>\n    </tr>\n    <tr>\n      <th>81</th>\n      <td>12:47</td>\n      <td>1</td>\n      <td>0</td>\n      <td>1</td>\n    </tr>\n    <tr>\n      <th>82</th>\n      <td>12:47</td>\n      <td>1</td>\n      <td>0</td>\n      <td>1</td>\n    </tr>\n    <tr>\n      <th>83</th>\n      <td>12:47</td>\n      <td>1</td>\n      <td>0</td>\n      <td>1</td>\n    </tr>\n    <tr>\n      <th>84</th>\n      <td>12:47</td>\n      <td>1</td>\n      <td>0</td>\n      <td>1</td>\n    </tr>\n    <tr>\n      <th>85</th>\n      <td>12:47</td>\n      <td>1</td>\n      <td>0</td>\n      <td>1</td>\n    </tr>\n    <tr>\n      <th>86</th>\n      <td>12:47</td>\n      <td>1</td>\n      <td>0</td>\n      <td>1</td>\n    </tr>\n    <tr>\n      <th>87</th>\n      <td>12:47</td>\n      <td>1</td>\n      <td>0</td>\n      <td>1</td>\n    </tr>\n    <tr>\n      <th>88</th>\n      <td>12:47</td>\n      <td>1</td>\n      <td>0</td>\n      <td>1</td>\n    </tr>\n    <tr>\n      <th>89</th>\n      <td>12:47</td>\n      <td>1</td>\n      <td>0</td>\n      <td>1</td>\n    </tr>\n    <tr>\n      <th>90</th>\n      <td>12:47</td>\n      <td>1</td>\n      <td>0</td>\n      <td>1</td>\n    </tr>\n    <tr>\n      <th>91</th>\n      <td>12:47</td>\n      <td>1</td>\n      <td>0</td>\n      <td>1</td>\n    </tr>\n    <tr>\n      <th>92</th>\n      <td>12:47</td>\n      <td>1</td>\n      <td>0</td>\n      <td>1</td>\n    </tr>\n    <tr>\n      <th>93</th>\n      <td>12:47</td>\n      <td>1</td>\n      <td>0</td>\n      <td>1</td>\n    </tr>\n    <tr>\n      <th>94</th>\n      <td>12:47</td>\n      <td>1</td>\n      <td>0</td>\n      <td>1</td>\n    </tr>\n    <tr>\n      <th>95</th>\n      <td>12:47</td>\n      <td>1</td>\n      <td>0</td>\n      <td>1</td>\n    </tr>\n    <tr>\n      <th>96</th>\n      <td>12:47</td>\n      <td>1</td>\n      <td>0</td>\n      <td>1</td>\n    </tr>\n    <tr>\n      <th>97</th>\n      <td>12:47</td>\n      <td>1</td>\n      <td>0</td>\n      <td>1</td>\n    </tr>\n    <tr>\n      <th>98</th>\n      <td>12:47</td>\n      <td>1</td>\n      <td>0</td>\n      <td>1</td>\n    </tr>\n    <tr>\n      <th>99</th>\n      <td>12:47</td>\n      <td>1</td>\n      <td>0</td>\n      <td>1</td>\n    </tr>\n  </tbody>\n</table>\n<p>100 rows × 4 columns</p>\n</div>"
     },
     "metadata": {},
     "execution_count": 39
    }
   ],
   "source": [
    "df = pd.DataFrame(columns = ['Time', 'Val1',' Val2', 'Val3'])\n",
    "start = dt.datetime.now()\n",
    "for i in range(0, 100):\n",
    "    df.loc[i] = ['12:47', val1, val2, val3]\n",
    "time = (dt.datetime.now() - start).total_seconds()\n",
    "resultDict['Pandas'] = time\n",
    "print(time, '/seconds')\n",
    "df"
   ]
  },
  {
   "source": [
    "### Results"
   ],
   "cell_type": "markdown",
   "metadata": {}
  },
  {
   "cell_type": "code",
   "execution_count": 40,
   "metadata": {},
   "outputs": [
    {
     "output_type": "stream",
     "name": "stdout",
     "text": [
      "{'CSV': 0.0, 'xlsx': 0.001962, 'Pandas': 0.163589}\n"
     ]
    }
   ],
   "source": [
    "print(resultDict)"
   ]
  }
 ]
}